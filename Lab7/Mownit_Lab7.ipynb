{
 "cells": [
  {
   "cell_type": "markdown",
   "metadata": {},
   "source": [
    "# MOwNiT\n",
    "## Laboratorium\n",
    "### Całkowanie"
   ]
  },
  {
   "cell_type": "code",
   "execution_count": 1,
   "metadata": {
    "scrolled": true
   },
   "outputs": [],
   "source": [
    "using Pkg\n",
    "#Pkg.add(\"QuadGK\")\n",
    "using QuadGK\n",
    "using Polynomials"
   ]
  },
  {
   "cell_type": "markdown",
   "metadata": {},
   "source": [
    "Kwadratury Gaussa bazują na tzw. odciętych punktów Gaussa $x_{i}$ oraz współczynnikach $a_{i}$\n"
   ]
  },
  {
   "cell_type": "code",
   "execution_count": 2,
   "metadata": {},
   "outputs": [],
   "source": [
    "# funkcja obliczająca odcięte punktów Gaussa oraz ich współczynniki\n",
    "(xp, a) = gauss(Float64,7);"
   ]
  },
  {
   "cell_type": "code",
   "execution_count": 3,
   "metadata": {
    "scrolled": true
   },
   "outputs": [
    {
     "data": {
      "text/plain": [
       "7-element Vector{Float64}:\n",
       " -0.9491079123427585\n",
       " -0.7415311855993945\n",
       " -0.4058451513773972\n",
       "  0.0\n",
       "  0.4058451513773972\n",
       "  0.7415311855993945\n",
       "  0.9491079123427585"
      ]
     },
     "execution_count": 3,
     "metadata": {},
     "output_type": "execute_result"
    }
   ],
   "source": [
    "xp"
   ]
  },
  {
   "cell_type": "code",
   "execution_count": 4,
   "metadata": {},
   "outputs": [
    {
     "data": {
      "text/plain": [
       "7-element Vector{Float64}:\n",
       " 0.12948496616886981\n",
       " 0.2797053914892767\n",
       " 0.38183005050511887\n",
       " 0.41795918367346907\n",
       " 0.38183005050511887\n",
       " 0.2797053914892767\n",
       " 0.12948496616886981"
      ]
     },
     "execution_count": 4,
     "metadata": {},
     "output_type": "execute_result"
    }
   ],
   "source": [
    "a"
   ]
  },
  {
   "cell_type": "markdown",
   "metadata": {},
   "source": [
    "Podstawowe użycie w/w danych: \n",
    "aby policzyć $\\int_{-1}^{1} f dx$  używamy odciętych punktów wraz z wagami wg wzoru \n",
    "$\\sum_{i=1}^{n}{a_{i}f(x_{i})}$\n"
   ]
  },
  {
   "cell_type": "code",
   "execution_count": 5,
   "metadata": {},
   "outputs": [
    {
     "data": {
      "text/plain": [
       "0.6666666666666669"
      ]
     },
     "execution_count": 5,
     "metadata": {},
     "output_type": "execute_result"
    }
   ],
   "source": [
    "f(x)=x^2\n",
    "sum(a .* f.(xp)) "
   ]
  },
  {
   "cell_type": "markdown",
   "metadata": {},
   "source": [
    "### Zadanie 1 (1p)\n",
    "- Korzytając z pakietu <a href=\"https://github.com/JuliaMath/Polynomials.jl\">Polynomials</a> zaimplementuj wielomiany Legendre'a zdefiniowane w taki sposób:\n",
    "\n",
    "$P_{0}(x)=1$\n",
    "\n",
    "$P_{1}(x)=x$\n",
    "\n",
    "$P_{k+1}(x)=\\frac{2k+1}{k+1} x P_{k}(x)-\\frac{k}{k+1}P_{k-1}(x)$\n",
    "\n",
    "- narysuj ich wykresy w przedziale (-1,1). \n",
    "- sprawdź(np. za pomocą fukcji <i>roots</i> z pakietu Polynomials), że ich zera  sa odciętymi punktów Gaussa. Test wykonaj dla wielomianow od 2 do 4 stopnia\n",
    "- podaj związek tego faktu z podstawowym twierdzeniem kwadratur Gaussa (z wykładu)"
   ]
  },
  {
   "cell_type": "markdown",
   "metadata": {},
   "source": [
    "### Zadanie 2 (1p)\n",
    "- Napisz funkcję, która dla podanej liczby punktów Gaussa $k$ oraz funkcji $f$  policzy $\\int_{-1}^{1} f dx$\n",
    "metodą używającą funkcji:\n",
    "```julia\n",
    "gauss(k)\n",
    "```\n",
    "oraz sumy \n",
    "```julia\n",
    "sum(a .* f.(xp)) \n",
    "```\n",
    "- przetestuj dla wielomianów coraz większych stopni\n",
    "- sprawdz kiedy przestaje być dokładna, \n",
    "- podaj związek z twierdzeniem o  stopniu dokładności kwadratury Gaussa "
   ]
  },
  {
   "cell_type": "markdown",
   "metadata": {},
   "source": [
    "### Zadanie 3 (1p)\n",
    "  \n",
    "Skorzystaj z rozwiązania zadania 2 do napisania funkcji \n",
    "liczącej  całki w dowolnym przedziale $\\int_{a}^{b} f(x) dx$ \n",
    "\n",
    "dokonując normalizacji  do $\\int_{-1}^{1} F(z) dz$ \n",
    "\n",
    "podstawiając:\n",
    "\n",
    "$x=\\frac{b+a}{2}+ \\frac{b-a}{2} z $ oraz \n",
    "\n",
    "$dx =\\frac{b-a}{2} dz $\n",
    "\n",
    "Przetestuj działanie na kilku przykładach i sprawdź z wynikami otrzymanymi analitycznie.\n"
   ]
  },
  {
   "cell_type": "markdown",
   "metadata": {},
   "source": [
    "### Zadanie 4 (1p)\n",
    "Głowną funkcją pakietu QuadGK jest adaptacyjna funkcja <a href=\"https://juliamath.github.io/QuadGK.jl/stable/#QuadGK.quadgk\"> guadgk</a> używająca całkowania  Gauss-Kronroda\n",
    "\n",
    "- użyj tej funkcji do policzenia  całki dla przykładowego wielomianu.\n",
    "- funkcja ta ma możliwość liczenia również całek do nieskończoności.\n",
    "\n",
    "\n",
    " Policz całkę od minus do plus nieskonczonosci \n",
    " standardowego rozkładu normalnego Gaussa\n",
    "$ \\frac{1}{\\sqrt{2\\pi}}exp(\\frac{-x^2}{2})$"
   ]
  },
  {
   "cell_type": "markdown",
   "metadata": {},
   "source": [
    "### Zadanie 5 (3p)\n",
    "Napisz własne funkcje całkujące -  w wybranym przedziale (a,b) - złożonymi metodami prostokątów, trapezów oraz Simpsona. Dla stałego przedziału zwiększaj liczbę użytych punktów (n). Narysuj wykresy funkcji błędu  w stosunku do wyniku otrzymanego analitycznie, \n",
    "w zależnosci od $h=\\frac{b-a}{n}$:\n",
    "1. wykładniczej\n",
    "2. trygonometrycznej (np. sin (x) w przedziale $[0,2\\pi]$)\n"
   ]
  }
 ],
 "metadata": {
  "kernelspec": {
   "display_name": "Julia 1.7.2",
   "language": "julia",
   "name": "julia-1.7"
  },
  "language_info": {
   "file_extension": ".jl",
   "mimetype": "application/julia",
   "name": "julia",
   "version": "1.7.2"
  }
 },
 "nbformat": 4,
 "nbformat_minor": 2
}
